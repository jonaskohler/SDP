{
 "cells": [
  {
   "cell_type": "code",
   "execution_count": 16,
   "metadata": {
    "collapsed": true
   },
   "outputs": [],
   "source": [
    "import picos\n",
    "from ncpol2sdpa import *\n",
    "import cvxopt\n",
    "import numpy as np\n",
    "import optim\n",
    "import time"
   ]
  },
  {
   "cell_type": "code",
   "execution_count": 12,
   "metadata": {},
   "outputs": [],
   "source": [
    "g=np.load('a9a_gradient.npy')\n",
    "H=np.load('a9a_hessian.npy')\n",
    "d=123"
   ]
  },
  {
   "cell_type": "code",
   "execution_count": 7,
   "metadata": {
    "scrolled": false
   },
   "outputs": [
    {
     "name": "stdout",
     "output_type": "stream",
     "text": [
      "The slowest run took 4.36 times longer than the fastest. This could mean that an intermediate result is being cached.\n",
      "100 loops, best of 3: 2.03 ms per loop\n"
     ]
    }
   ],
   "source": [
    "timeit optim.exact_TR_suproblem_solver(g, H, 1000, 0.00001)\n"
   ]
  },
  {
   "cell_type": "code",
   "execution_count": 24,
   "metadata": {},
   "outputs": [
    {
     "name": "stdout",
     "output_type": "stream",
     "text": [
      "optimal value as of TR=  -0.273241341955\n"
     ]
    }
   ],
   "source": [
    "s= optim.exact_TR_suproblem_solver(g, H, 1000, 0.000000001)\n",
    "print('optimal value as of TR= ', np.dot(g,s)+1/2*np.dot(s,np.dot(H,s)))"
   ]
  },
  {
   "cell_type": "code",
   "execution_count": 17,
   "metadata": {
    "collapsed": true
   },
   "outputs": [],
   "source": [
    "n_vars=d\n",
    "level=1 # in the unconstrained case choose level=deg(f)/2 always\n",
    "x = generate_variables('x', n_vars)\n",
    "obj = np.dot(g,x)+1/2*np.dot(x,np.dot(H,x))\n",
    "sdp = SdpRelaxation(x)\n"
   ]
  },
  {
   "cell_type": "code",
   "execution_count": 19,
   "metadata": {},
   "outputs": [
    {
     "name": "stdout",
     "output_type": "stream",
     "text": [
      "405.70138900000006\n"
     ]
    }
   ],
   "source": [
    "t_0=time.clock()\n",
    "sdp.get_relaxation(level, objective=obj)\n",
    "t_1=time.clock()\n",
    "print(t_1-t_0)"
   ]
  },
  {
   "cell_type": "code",
   "execution_count": 20,
   "metadata": {},
   "outputs": [
    {
     "name": "stdout",
     "output_type": "stream",
     "text": [
      "1911.4454319999998\n"
     ]
    }
   ],
   "source": [
    "t_0=time.clock()\n",
    "sdp.solve()\n",
    "t_1=time.clock()\n",
    "print(t_1-t_0)"
   ]
  },
  {
   "cell_type": "code",
   "execution_count": 23,
   "metadata": {},
   "outputs": [
    {
     "name": "stdout",
     "output_type": "stream",
     "text": [
      "SDP/exact 941598.5221674878\n"
     ]
    }
   ],
   "source": [
    "print('SDP/exact',1911.445/(2.03/1000))"
   ]
  },
  {
   "cell_type": "code",
   "execution_count": 21,
   "metadata": {},
   "outputs": [
    {
     "name": "stdout",
     "output_type": "stream",
     "text": [
      "optimal values:  -0.27324133672711426 -0.27324133672711426 optimal\n",
      "rank(M)=  1\n"
     ]
    }
   ],
   "source": [
    "print('optimal values: ',sdp.primal, sdp.dual, sdp.status)\n",
    "\n",
    "M=np.matrix(sdp.x_mat[0]) # Matrix of Moments\n",
    "print('rank(M)= ',np.greater(np.linalg.eigvals(M),0.000001).sum())"
   ]
  },
  {
   "cell_type": "code",
   "execution_count": 25,
   "metadata": {},
   "outputs": [
    {
     "data": {
      "text/plain": [
       "0.0017780998940878335"
      ]
     },
     "execution_count": 25,
     "metadata": {},
     "output_type": "execute_result"
    }
   ],
   "source": [
    "s_sdp=np.zeros(123)\n",
    "for i in range(0,122):\n",
    " s_sdp[i]=sdp[x[i]]\n",
    "np.linalg.norm(s-s_sdp)"
   ]
  }
 ],
 "metadata": {
  "kernelspec": {
   "display_name": "Python 3",
   "language": "python",
   "name": "python3"
  },
  "language_info": {
   "codemirror_mode": {
    "name": "ipython",
    "version": 3
   },
   "file_extension": ".py",
   "mimetype": "text/x-python",
   "name": "python",
   "nbconvert_exporter": "python",
   "pygments_lexer": "ipython3",
   "version": "3.6.1"
  }
 },
 "nbformat": 4,
 "nbformat_minor": 2
}

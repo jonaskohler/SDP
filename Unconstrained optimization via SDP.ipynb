{
 "cells": [
  {
   "cell_type": "code",
   "execution_count": 12,
   "metadata": {},
   "outputs": [
    {
     "name": "stderr",
     "output_type": "stream",
     "text": [
      "/home/jonas/anaconda3/lib/python3.6/site-packages/matplotlib/font_manager.py:280: UserWarning: Matplotlib is building the font cache using fc-list. This may take a moment.\n",
      "  'Matplotlib is building the font cache using fc-list. '\n"
     ]
    }
   ],
   "source": [
    "import picos\n",
    "from ncpol2sdpa import *\n",
    "import cvxopt\n",
    "import numpy as np\n",
    "import matplotlib.pyplot as plt\n"
   ]
  },
  {
   "cell_type": "code",
   "execution_count": 15,
   "metadata": {
    "collapsed": true
   },
   "outputs": [],
   "source": [
    "%matplotlib inline"
   ]
  },
  {
   "cell_type": "markdown",
   "metadata": {},
   "source": [
    "### Simple SOS problem (vars=2,deg=4), unique minimizer (convex)"
   ]
  },
  {
   "cell_type": "markdown",
   "metadata": {},
   "source": [
    "Example 5.1 in Lassere, this polynom has one global optimum at $(-.24281483,-.24281483)$ with optimal value $f^*=2.507365$"
   ]
  },
  {
   "cell_type": "code",
   "execution_count": 60,
   "metadata": {
    "collapsed": true
   },
   "outputs": [],
   "source": [
    "n_vars=2\n",
    "level=2# in the unconstrained case choose level=deg(f)/2 always\n",
    "x = generate_variables('x', n_vars)\n",
    "obj = 3+2*x[0]+2*x[1] + 2*x[0]*x[1]+3*x[0]**2+3*x[1]**2+x[0]**4+x[1]**4"
   ]
  },
  {
   "cell_type": "markdown",
   "metadata": {},
   "source": [
    "Generate and solve SDP relaxation. We expect this to work from Hilberts results."
   ]
  },
  {
   "cell_type": "code",
   "execution_count": 61,
   "metadata": {},
   "outputs": [
    {
     "name": "stdout",
     "output_type": "stream",
     "text": [
      "optimal values:  2.5073653440899433 2.5073653440899433 optimal\n"
     ]
    }
   ],
   "source": [
    "sdp = SdpRelaxation(x)\n",
    "sdp.get_relaxation(level, objective=obj)\n",
    "sdp.solve()\n",
    "print('optimal values: ',sdp.primal, sdp.dual, sdp.status)"
   ]
  },
  {
   "cell_type": "markdown",
   "metadata": {},
   "source": [
    "Let's see if the Moment matrix M has rank 1, in this case $M(y^*)=v(x^*)v(x^*)^\\intercal$ and we can \"read the solution off\""
   ]
  },
  {
   "cell_type": "code",
   "execution_count": 128,
   "metadata": {
    "scrolled": true
   },
   "outputs": [
    {
     "name": "stdout",
     "output_type": "stream",
     "text": [
      "rank(M)=  6\n",
      "rank(Q)=  6\n"
     ]
    }
   ],
   "source": [
    "Q=np.matrix(sdp.y_mat[0]) # SOS decomp matrix p=vQv^t\n",
    "M=np.matrix(sdp.x_mat[0]) # Matrix of Moments\n",
    "print('rank(M)= ', np.linalg.matrix_rank(M))\n",
    "print('rank(Q)= ', np.linalg.matrix_rank(Q))"
   ]
  },
  {
   "cell_type": "markdown",
   "metadata": {},
   "source": [
    "looks like it's not rank 1. Let's compare $M(y^*)$ and $v(x^*)v(x^*)^\\intercal$ "
   ]
  },
  {
   "cell_type": "code",
   "execution_count": 115,
   "metadata": {},
   "outputs": [
    {
     "name": "stdout",
     "output_type": "stream",
     "text": [
      "rank of vv^T=  1\n",
      "||M-vv^T||=  1.91026802858e-08\n"
     ]
    }
   ],
   "source": [
    "v=np.array([1,-0.24281483,-0.24281483,0.24281483**2,0.24281483**2,0.24281483**2])\n",
    "V=np.outer(v,v)\n",
    "print(\"rank of vv^T= \", np.linalg.matrix_rank(V))\n",
    "print(\"||M-vv^T||= \",np.linalg.norm(V-M))\n"
   ]
  },
  {
   "cell_type": "markdown",
   "metadata": {},
   "source": [
    "looks like they're the same, let's take a closer look at the eigenspectrum of M"
   ]
  },
  {
   "cell_type": "code",
   "execution_count": 146,
   "metadata": {},
   "outputs": [
    {
     "data": {
      "text/plain": [
       "1"
      ]
     },
     "execution_count": 146,
     "metadata": {},
     "output_type": "execute_result"
    }
   ],
   "source": [
    "np.greater(np.linalg.eigvals(M),0.0000001).sum()"
   ]
  },
  {
   "cell_type": "markdown",
   "metadata": {},
   "source": [
    "We can thus conclude that M is indeed rank 1, which means that the sequence of moments $y^*$ has only *one* representing measure $\\mu$. Thus, we can \"read off\" the solution as M[0,1]=E(x[0])=sdp[x[0]] and M[0,2]=E(x[1])=sdp[x[1]] "
   ]
  },
  {
   "cell_type": "code",
   "execution_count": 149,
   "metadata": {},
   "outputs": [
    {
     "name": "stdout",
     "output_type": "stream",
     "text": [
      "optimal point:  -0.242814831154 -0.242814831154\n"
     ]
    }
   ],
   "source": [
    "print('optimal point: ',M[0,1],M[0,2])"
   ]
  },
  {
   "cell_type": "markdown",
   "metadata": {},
   "source": [
    "The problem is convex and symmetric. Thus, we can check optimality by evaluating the gradient in one dimension!"
   ]
  },
  {
   "cell_type": "code",
   "execution_count": 152,
   "metadata": {
    "scrolled": true
   },
   "outputs": [
    {
     "name": "stdout",
     "output_type": "stream",
     "text": [
      "gradient norm at optimum=  0.000216831233481\n",
      "objective value at optimum=  2.50736535053\n"
     ]
    }
   ],
   "source": [
    "x_0=sdp[x[0]] \n",
    "x_1=sdp[x[1]]\n",
    "grad= 4*x_0**3+6*x_0+2*x_1+2\n",
    "print(\"gradient norm at optimum= \",grad)\n",
    "assert abs(grad)<=0.01, \"gradient not zero\"\n",
    "print(\"objective value at optimum= \",3+2*x_0+2*x_1 + 2*x_0*x_1+3*x_0**2+3*x_1**2+x_0**4+x_1**4)"
   ]
  },
  {
   "cell_type": "markdown",
   "metadata": {},
   "source": [
    "Finally, we can  get an SOS decomposition"
   ]
  },
  {
   "cell_type": "code",
   "execution_count": 31,
   "metadata": {},
   "outputs": [
    {
     "data": {
      "text/plain": [
       "[1.00000001990131*x0**4 + 5.9499644969008e-16*x0**3*x1 + 3.68057343991411e-16*x0**3 + 1.990131036438e-8*x0**2*x1**2 - 1.18254036749394e-15*x0**2*x1 + 3.00000001990131*x0**2 - 4.06448990536292e-16*x0*x1**3 - 7.52328952586128e-16*x0*x1**2 + 2.0*x0*x1 + 2.0*x0 + 1.00000001990131*x1**4 + 6.27460032239037e-17*x1**3 + 3.00000001990131*x1**2 + 2.0*x1 + 0.492634667830602]"
      ]
     },
     "execution_count": 31,
     "metadata": {},
     "output_type": "execute_result"
    }
   ],
   "source": [
    "sdp.get_sos_decomposition()"
   ]
  },
  {
   "cell_type": "markdown",
   "metadata": {},
   "source": [
    "$x_0⁴+3x_0²+2x_0x_1+2*x_0+x_1⁴+3x_1²+2*x_1+0.1245$ \n",
    "\n",
    "That's just input - optimal value... I would have expected something like\n",
    "\n",
    "$(x_1+1)²+(x_0+1)²+(x_0+x_1+1)²$"
   ]
  },
  {
   "cell_type": "markdown",
   "metadata": {},
   "source": [
    "### Simple SOS problem II (vars=1,deg=4), multiple minimizers"
   ]
  },
  {
   "cell_type": "code",
   "execution_count": 23,
   "metadata": {},
   "outputs": [
    {
     "data": {
      "text/plain": [
       "[<matplotlib.lines.Line2D at 0x7fad07153f60>]"
      ]
     },
     "execution_count": 23,
     "metadata": {},
     "output_type": "execute_result"
    },
    {
     "data": {
      "image/png": "[encoded data removed]",
      "text/plain": [
       "<matplotlib.figure.Figure at 0x7fad071d30b8>"
      ]
     },
     "metadata": {},
     "output_type": "display_data"
    }
   ],
   "source": [
    "t = np.arange(-1.0, 1.05, 0.05)\n",
    "plt.plot(t, t**4-t**2)"
   ]
  },
  {
   "cell_type": "markdown",
   "metadata": {},
   "source": [
    "This polynom has *two* global optima at $1/\\sqrt{2}$ and $-1/\\sqrt{2}$ with optimal value $f^*=-1/4$"
   ]
  },
  {
   "cell_type": "code",
   "execution_count": 6,
   "metadata": {
    "scrolled": true
   },
   "outputs": [
    {
     "name": "stdout",
     "output_type": "stream",
     "text": [
      "optimal values:  -0.24999999736598746 -0.24999999736598746 optimal\n"
     ]
    }
   ],
   "source": [
    "n_vars=1\n",
    "level= # in the unconstrained case choose level=deg(f)/2 always\n",
    "x = generate_variables('x', n_vars)\n",
    "obj = x[0]**4-x[0]**2\n",
    "\n",
    "sdp = SdpRelaxation(x)\n",
    "sdp.get_relaxation(level, objective=obj)\n",
    "sdp.solve()\n",
    "print('optimal values: ',sdp.primal, sdp.dual, sdp.status)"
   ]
  },
  {
   "cell_type": "code",
   "execution_count": 10,
   "metadata": {
    "scrolled": true
   },
   "outputs": [
    {
     "name": "stdout",
     "output_type": "stream",
     "text": [
      "rank(M)=  3\n"
     ]
    }
   ],
   "source": [
    "M=np.matrix(sdp.x_mat[0]) # Matrix of Moments\n",
    "print('rank(M)= ', np.linalg.matrix_rank(M))\n"
   ]
  },
  {
   "cell_type": "markdown",
   "metadata": {},
   "source": [
    "again the rank computation is not accurate, since M has only two significant EVs"
   ]
  },
  {
   "cell_type": "code",
   "execution_count": 18,
   "metadata": {},
   "outputs": [
    {
     "data": {
      "text/plain": [
       "2"
      ]
     },
     "execution_count": 18,
     "metadata": {},
     "output_type": "execute_result"
    }
   ],
   "source": [
    "np.greater(np.linalg.eigvals(M),0.00000001).sum()"
   ]
  },
  {
   "cell_type": "markdown",
   "metadata": {},
   "source": [
    "rank(M(y*))=2 which suggests the existence of two global minimizers. Let's see what happens if we mistake y_1 for x*"
   ]
  },
  {
   "cell_type": "code",
   "execution_count": 26,
   "metadata": {},
   "outputs": [
    {
     "name": "stdout",
     "output_type": "stream",
     "text": [
      "-2.06897076795e-31\n"
     ]
    },
    {
     "ename": "AssertionError",
     "evalue": "y_1 does not yield optimal value!",
     "output_type": "error",
     "traceback": [
      "\u001b[0;31m---------------------------------------------------------------------------\u001b[0m",
      "\u001b[0;31mAssertionError\u001b[0m                            Traceback (most recent call last)",
      "\u001b[0;32m<ipython-input-26-53de105170e9>\u001b[0m in \u001b[0;36m<module>\u001b[0;34m()\u001b[0m\n\u001b[1;32m      1\u001b[0m \u001b[0mf_y\u001b[0m\u001b[0;34m=\u001b[0m\u001b[0msdp\u001b[0m\u001b[0;34m[\u001b[0m\u001b[0mx\u001b[0m\u001b[0;34m[\u001b[0m\u001b[0;36m0\u001b[0m\u001b[0;34m]\u001b[0m\u001b[0;34m]\u001b[0m\u001b[0;34m**\u001b[0m\u001b[0;36m4\u001b[0m\u001b[0;34m-\u001b[0m\u001b[0msdp\u001b[0m\u001b[0;34m[\u001b[0m\u001b[0mx\u001b[0m\u001b[0;34m[\u001b[0m\u001b[0;36m0\u001b[0m\u001b[0;34m]\u001b[0m\u001b[0;34m]\u001b[0m\u001b[0;34m**\u001b[0m\u001b[0;36m2\u001b[0m\u001b[0;34m\u001b[0m\u001b[0m\n\u001b[1;32m      2\u001b[0m \u001b[0mprint\u001b[0m \u001b[0;34m(\u001b[0m\u001b[0mf_y\u001b[0m\u001b[0;34m)\u001b[0m\u001b[0;34m\u001b[0m\u001b[0m\n\u001b[0;32m----> 3\u001b[0;31m \u001b[0;32massert\u001b[0m \u001b[0mabs\u001b[0m\u001b[0;34m(\u001b[0m\u001b[0;34m-\u001b[0m\u001b[0;36m1\u001b[0m\u001b[0;34m/\u001b[0m\u001b[0;36m4\u001b[0m\u001b[0;34m-\u001b[0m\u001b[0mf_y\u001b[0m\u001b[0;34m)\u001b[0m \u001b[0;34m<\u001b[0m\u001b[0;36m0.1\u001b[0m\u001b[0;34m,\u001b[0m \u001b[0;34m\"y_1 does not yield optimal value!\"\u001b[0m\u001b[0;34m\u001b[0m\u001b[0m\n\u001b[0m",
      "\u001b[0;31mAssertionError\u001b[0m: y_1 does not yield optimal value!"
     ]
    }
   ],
   "source": [
    "f_y=sdp[x[0]]**4-sdp[x[0]]**2\n",
    "print (f_y)\n",
    "assert abs(-1/4-f_y) <0.1, \"y_1 does not yield optimal value!\""
   ]
  },
  {
   "cell_type": "markdown",
   "metadata": {},
   "source": [
    "As a result, we need to apply Algo 4.2 of the Lasserre Book to obtain $x^*_1$ and $x^*_2$. Unfortunately, the *ncpol2sdpa* seems not to provide this..."
   ]
  },
  {
   "cell_type": "markdown",
   "metadata": {},
   "source": [
    "### Simple SOS problem III (vars=1,deg=4), unique global minimizer but non-convex"
   ]
  },
  {
   "cell_type": "code",
   "execution_count": 24,
   "metadata": {},
   "outputs": [
    {
     "data": {
      "text/plain": [
       "[<matplotlib.lines.Line2D at 0x7fad07071e80>]"
      ]
     },
     "execution_count": 24,
     "metadata": {},
     "output_type": "execute_result"
    },
    {
     "data": {
      "image/png": "[encoded data removed]",
      "text/plain": [
       "<matplotlib.figure.Figure at 0x7fad07104ac8>"
      ]
     },
     "metadata": {},
     "output_type": "display_data"
    }
   ],
   "source": [
    "plt.plot(t, t**4-t**2+1/10*t)"
   ]
  },
  {
   "cell_type": "markdown",
   "metadata": {},
   "source": [
    "the global minmizers lies at $x^*=-0.73089$ with optimal value $-0.32192$, yet another local minimizer lies at $0.6806$"
   ]
  },
  {
   "cell_type": "code",
   "execution_count": 10,
   "metadata": {},
   "outputs": [
    {
     "name": "stdout",
     "output_type": "stream",
     "text": [
      "optimal values:  -0.3219193099369817 -0.3219193099369817 optimal\n",
      "rank(M)=  1\n",
      "-0.321919310405\n"
     ]
    }
   ],
   "source": [
    "n_vars=1\n",
    "level=2 # in the unconstrained case choose level=deg(f)/2 always\n",
    "x = generate_variables('x', n_vars)\n",
    "obj = x[0]**4-x[0]**2+1/10*x[0]\n",
    "\n",
    "sdp = SdpRelaxation(x)\n",
    "sdp.get_relaxation(level, objective=obj)\n",
    "sdp.solve()\n",
    "print('optimal values: ',sdp.primal, sdp.dual, sdp.status)\n",
    "\n",
    "M=np.matrix(sdp.x_mat[0]) # Matrix of Moments\n",
    "print('rank(M)= ',np.greater(np.linalg.eigvals(M),0.000001).sum())\n",
    "\n",
    "f_y=sdp[x[0]]**4-sdp[x[0]]**2+1/10*sdp[x[0]]\n",
    "print (f_y)\n",
    "assert abs(-0.32192-f_y) <0.1, \"y_1 does not yield optimal value!\"\n",
    "\n"
   ]
  },
  {
   "cell_type": "markdown",
   "metadata": {},
   "source": [
    "again, the global minimizer can be obtained directly from $y^*_1$"
   ]
  },
  {
   "cell_type": "markdown",
   "metadata": {},
   "source": [
    "### Motzkin (vars=2, deg=6)"
   ]
  },
  {
   "cell_type": "code",
   "execution_count": 153,
   "metadata": {
    "collapsed": true
   },
   "outputs": [],
   "source": [
    "n_vars=2\n",
    "level=3 #half the degree of m(x,y)\n",
    "x = generate_variables('x', n_vars)\n",
    "obj = x[0]**2*x[1]**4 +  x[0]**4*x[1]**2 + 1 -3*x[0]**2*x[1]**2"
   ]
  },
  {
   "cell_type": "markdown",
   "metadata": {},
   "source": [
    "m(x,y) is not SOS so we expect the approach to fail!"
   ]
  },
  {
   "cell_type": "code",
   "execution_count": 154,
   "metadata": {},
   "outputs": [
    {
     "ename": "SolverError",
     "evalue": "Solver 'CVXOPT' failed. Try another solver.",
     "output_type": "error",
     "traceback": [
      "\u001b[0;31m---------------------------------------------------------------------------\u001b[0m",
      "\u001b[0;31mSolverError\u001b[0m                               Traceback (most recent call last)",
      "\u001b[0;32m<ipython-input-154-ec542a364a02>\u001b[0m in \u001b[0;36m<module>\u001b[0;34m()\u001b[0m\n\u001b[1;32m      1\u001b[0m \u001b[0msdp\u001b[0m \u001b[0;34m=\u001b[0m \u001b[0mSdpRelaxation\u001b[0m\u001b[0;34m(\u001b[0m\u001b[0mx\u001b[0m\u001b[0;34m)\u001b[0m\u001b[0;34m\u001b[0m\u001b[0m\n\u001b[1;32m      2\u001b[0m \u001b[0msdp\u001b[0m\u001b[0;34m.\u001b[0m\u001b[0mget_relaxation\u001b[0m\u001b[0;34m(\u001b[0m\u001b[0mlevel\u001b[0m\u001b[0;34m,\u001b[0m \u001b[0mobjective\u001b[0m\u001b[0;34m=\u001b[0m\u001b[0mobj\u001b[0m\u001b[0;34m)\u001b[0m\u001b[0;34m\u001b[0m\u001b[0m\n\u001b[0;32m----> 3\u001b[0;31m \u001b[0msdp\u001b[0m\u001b[0;34m.\u001b[0m\u001b[0msolve\u001b[0m\u001b[0;34m(\u001b[0m\u001b[0;34m)\u001b[0m\u001b[0;34m\u001b[0m\u001b[0m\n\u001b[0m\u001b[1;32m      4\u001b[0m \u001b[0mprint\u001b[0m\u001b[0;34m(\u001b[0m\u001b[0;34m'optimal values: '\u001b[0m\u001b[0;34m,\u001b[0m\u001b[0msdp\u001b[0m\u001b[0;34m.\u001b[0m\u001b[0mprimal\u001b[0m\u001b[0;34m,\u001b[0m \u001b[0msdp\u001b[0m\u001b[0;34m.\u001b[0m\u001b[0mdual\u001b[0m\u001b[0;34m,\u001b[0m \u001b[0msdp\u001b[0m\u001b[0;34m.\u001b[0m\u001b[0mstatus\u001b[0m\u001b[0;34m)\u001b[0m\u001b[0;34m\u001b[0m\u001b[0m\n\u001b[1;32m      5\u001b[0m \u001b[0mprint\u001b[0m\u001b[0;34m(\u001b[0m\u001b[0;34m'optimal point: '\u001b[0m\u001b[0;34m,\u001b[0m\u001b[0msdp\u001b[0m\u001b[0;34m[\u001b[0m\u001b[0mx\u001b[0m\u001b[0;34m[\u001b[0m\u001b[0;36m0\u001b[0m\u001b[0;34m]\u001b[0m\u001b[0;34m]\u001b[0m\u001b[0;34m)\u001b[0m \u001b[0;31m#that's somehow not correct???\u001b[0m\u001b[0;34m\u001b[0m\u001b[0m\n",
      "\u001b[0;32m/home/jonas/anaconda3/lib/python3.6/site-packages/ncpol2sdpa/sdp_relaxation.py\u001b[0m in \u001b[0;36msolve\u001b[0;34m(self, solver, solverparameters)\u001b[0m\n\u001b[1;32m    110\u001b[0m             raise Exception(\"Relaxation is not generated yet. Call \"\n\u001b[1;32m    111\u001b[0m                             \"'SdpRelaxation.get_relaxation' first\")\n\u001b[0;32m--> 112\u001b[0;31m         \u001b[0msolve_sdp\u001b[0m\u001b[0;34m(\u001b[0m\u001b[0mself\u001b[0m\u001b[0;34m,\u001b[0m \u001b[0msolver\u001b[0m\u001b[0;34m,\u001b[0m \u001b[0msolverparameters\u001b[0m\u001b[0;34m)\u001b[0m\u001b[0;34m\u001b[0m\u001b[0m\n\u001b[0m\u001b[1;32m    113\u001b[0m \u001b[0;34m\u001b[0m\u001b[0m\n\u001b[1;32m    114\u001b[0m \u001b[0;34m\u001b[0m\u001b[0m\n",
      "\u001b[0;32m/home/jonas/anaconda3/lib/python3.6/site-packages/ncpol2sdpa/solver_common.py\u001b[0m in \u001b[0;36msolve_sdp\u001b[0;34m(sdp, solver, solverparameters)\u001b[0m\n\u001b[1;32m    111\u001b[0m     \u001b[0;32melif\u001b[0m \u001b[0msolver\u001b[0m \u001b[0;34m==\u001b[0m \u001b[0;34m\"cvxpy\"\u001b[0m\u001b[0;34m:\u001b[0m\u001b[0;34m\u001b[0m\u001b[0m\n\u001b[1;32m    112\u001b[0m         \u001b[0mprimal\u001b[0m\u001b[0;34m,\u001b[0m \u001b[0mdual\u001b[0m\u001b[0;34m,\u001b[0m \u001b[0mx_mat\u001b[0m\u001b[0;34m,\u001b[0m \u001b[0my_mat\u001b[0m\u001b[0;34m,\u001b[0m \u001b[0mstatus\u001b[0m \u001b[0;34m=\u001b[0m\u001b[0;31m \u001b[0m\u001b[0;31m\\\u001b[0m\u001b[0;34m\u001b[0m\u001b[0m\n\u001b[0;32m--> 113\u001b[0;31m           \u001b[0msolve_with_cvxpy\u001b[0m\u001b[0;34m(\u001b[0m\u001b[0msdp\u001b[0m\u001b[0;34m,\u001b[0m \u001b[0msolverparameters\u001b[0m\u001b[0;34m)\u001b[0m\u001b[0;34m\u001b[0m\u001b[0m\n\u001b[0m\u001b[1;32m    114\u001b[0m     \u001b[0;32melif\u001b[0m \u001b[0msolver\u001b[0m \u001b[0;34m==\u001b[0m \u001b[0;34m\"scs\"\u001b[0m\u001b[0;34m:\u001b[0m\u001b[0;34m\u001b[0m\u001b[0m\n\u001b[1;32m    115\u001b[0m         \u001b[0;32mif\u001b[0m \u001b[0msolverparameters\u001b[0m \u001b[0;32mis\u001b[0m \u001b[0;32mNone\u001b[0m\u001b[0;34m:\u001b[0m\u001b[0;34m\u001b[0m\u001b[0m\n",
      "\u001b[0;32m/home/jonas/anaconda3/lib/python3.6/site-packages/ncpol2sdpa/cvxpy_utils.py\u001b[0m in \u001b[0;36msolve_with_cvxpy\u001b[0;34m(sdp, solverparameters)\u001b[0m\n\u001b[1;32m     27\u001b[0m         \u001b[0mv\u001b[0m \u001b[0;34m=\u001b[0m \u001b[0mproblem\u001b[0m\u001b[0;34m.\u001b[0m\u001b[0msolve\u001b[0m\u001b[0;34m(\u001b[0m\u001b[0msolver\u001b[0m\u001b[0;34m=\u001b[0m\u001b[0msolver\u001b[0m\u001b[0;34m,\u001b[0m \u001b[0mverbose\u001b[0m\u001b[0;34m=\u001b[0m\u001b[0;34m(\u001b[0m\u001b[0msdp\u001b[0m\u001b[0;34m.\u001b[0m\u001b[0mverbose\u001b[0m \u001b[0;34m>\u001b[0m \u001b[0;36m0\u001b[0m\u001b[0;34m)\u001b[0m\u001b[0;34m)\u001b[0m\u001b[0;34m\u001b[0m\u001b[0m\n\u001b[1;32m     28\u001b[0m     \u001b[0;32melse\u001b[0m\u001b[0;34m:\u001b[0m\u001b[0;34m\u001b[0m\u001b[0m\n\u001b[0;32m---> 29\u001b[0;31m         \u001b[0mv\u001b[0m \u001b[0;34m=\u001b[0m \u001b[0mproblem\u001b[0m\u001b[0;34m.\u001b[0m\u001b[0msolve\u001b[0m\u001b[0;34m(\u001b[0m\u001b[0mverbose\u001b[0m\u001b[0;34m=\u001b[0m\u001b[0;34m(\u001b[0m\u001b[0msdp\u001b[0m\u001b[0;34m.\u001b[0m\u001b[0mverbose\u001b[0m \u001b[0;34m>\u001b[0m \u001b[0;36m0\u001b[0m\u001b[0;34m)\u001b[0m\u001b[0;34m)\u001b[0m\u001b[0;34m\u001b[0m\u001b[0m\n\u001b[0m\u001b[1;32m     30\u001b[0m     \u001b[0;32mif\u001b[0m \u001b[0mv\u001b[0m \u001b[0;32mis\u001b[0m \u001b[0;32mNone\u001b[0m\u001b[0;34m:\u001b[0m\u001b[0;34m\u001b[0m\u001b[0m\n\u001b[1;32m     31\u001b[0m         \u001b[0mstatus\u001b[0m \u001b[0;34m=\u001b[0m \u001b[0;34m\"infeasible\"\u001b[0m\u001b[0;34m\u001b[0m\u001b[0m\n",
      "\u001b[0;32m/home/jonas/anaconda3/lib/python3.6/site-packages/cvxpy/problems/problem.py\u001b[0m in \u001b[0;36msolve\u001b[0;34m(self, *args, **kwargs)\u001b[0m\n\u001b[1;32m    207\u001b[0m             \u001b[0;32mreturn\u001b[0m \u001b[0mfunc\u001b[0m\u001b[0;34m(\u001b[0m\u001b[0mself\u001b[0m\u001b[0;34m,\u001b[0m \u001b[0;34m*\u001b[0m\u001b[0margs\u001b[0m\u001b[0;34m,\u001b[0m \u001b[0;34m**\u001b[0m\u001b[0mkwargs\u001b[0m\u001b[0;34m)\u001b[0m\u001b[0;34m\u001b[0m\u001b[0m\n\u001b[1;32m    208\u001b[0m         \u001b[0;32melse\u001b[0m\u001b[0;34m:\u001b[0m\u001b[0;34m\u001b[0m\u001b[0m\n\u001b[0;32m--> 209\u001b[0;31m             \u001b[0;32mreturn\u001b[0m \u001b[0mself\u001b[0m\u001b[0;34m.\u001b[0m\u001b[0m_solve\u001b[0m\u001b[0;34m(\u001b[0m\u001b[0;34m*\u001b[0m\u001b[0margs\u001b[0m\u001b[0;34m,\u001b[0m \u001b[0;34m**\u001b[0m\u001b[0mkwargs\u001b[0m\u001b[0;34m)\u001b[0m\u001b[0;34m\u001b[0m\u001b[0m\n\u001b[0m\u001b[1;32m    210\u001b[0m \u001b[0;34m\u001b[0m\u001b[0m\n\u001b[1;32m    211\u001b[0m     \u001b[0;34m@\u001b[0m\u001b[0mclassmethod\u001b[0m\u001b[0;34m\u001b[0m\u001b[0m\n",
      "\u001b[0;32m/home/jonas/anaconda3/lib/python3.6/site-packages/cvxpy/problems/problem.py\u001b[0m in \u001b[0;36m_solve\u001b[0;34m(self, solver, ignore_dcp, warm_start, verbose, parallel, **kwargs)\u001b[0m\n\u001b[1;32m    333\u001b[0m         \u001b[0;32melse\u001b[0m\u001b[0;34m:\u001b[0m\u001b[0;34m\u001b[0m\u001b[0m\n\u001b[1;32m    334\u001b[0m             \u001b[0mresults_dict\u001b[0m \u001b[0;34m=\u001b[0m \u001b[0;34m{\u001b[0m\u001b[0ms\u001b[0m\u001b[0;34m.\u001b[0m\u001b[0mSTATUS\u001b[0m\u001b[0;34m:\u001b[0m \u001b[0msym_data\u001b[0m\u001b[0;34m.\u001b[0m\u001b[0mpresolve_status\u001b[0m\u001b[0;34m}\u001b[0m\u001b[0;34m\u001b[0m\u001b[0m\n\u001b[0;32m--> 335\u001b[0;31m         \u001b[0mself\u001b[0m\u001b[0;34m.\u001b[0m\u001b[0m_update_problem_state\u001b[0m\u001b[0;34m(\u001b[0m\u001b[0mresults_dict\u001b[0m\u001b[0;34m,\u001b[0m \u001b[0msym_data\u001b[0m\u001b[0;34m,\u001b[0m \u001b[0msolver\u001b[0m\u001b[0;34m)\u001b[0m\u001b[0;34m\u001b[0m\u001b[0m\n\u001b[0m\u001b[1;32m    336\u001b[0m         \u001b[0;32mreturn\u001b[0m \u001b[0mself\u001b[0m\u001b[0;34m.\u001b[0m\u001b[0mvalue\u001b[0m\u001b[0;34m\u001b[0m\u001b[0m\n\u001b[1;32m    337\u001b[0m \u001b[0;34m\u001b[0m\u001b[0m\n",
      "\u001b[0;32m/home/jonas/anaconda3/lib/python3.6/site-packages/cvxpy/problems/problem.py\u001b[0m in \u001b[0;36m_update_problem_state\u001b[0;34m(self, results_dict, sym_data, solver)\u001b[0m\n\u001b[1;32m    445\u001b[0m         \u001b[0;32melse\u001b[0m\u001b[0;34m:\u001b[0m\u001b[0;34m\u001b[0m\u001b[0m\n\u001b[1;32m    446\u001b[0m             raise SolverError(\n\u001b[0;32m--> 447\u001b[0;31m                 \"Solver '%s' failed. Try another solver.\" % solver.name())\n\u001b[0m\u001b[1;32m    448\u001b[0m         \u001b[0mself\u001b[0m\u001b[0;34m.\u001b[0m\u001b[0m_status\u001b[0m \u001b[0;34m=\u001b[0m \u001b[0mresults_dict\u001b[0m\u001b[0;34m[\u001b[0m\u001b[0ms\u001b[0m\u001b[0;34m.\u001b[0m\u001b[0mSTATUS\u001b[0m\u001b[0;34m]\u001b[0m\u001b[0;34m\u001b[0m\u001b[0m\n\u001b[1;32m    449\u001b[0m         \u001b[0mself\u001b[0m\u001b[0;34m.\u001b[0m\u001b[0m_solver_stats\u001b[0m \u001b[0;34m=\u001b[0m \u001b[0mSolverStats\u001b[0m\u001b[0;34m(\u001b[0m\u001b[0mresults_dict\u001b[0m\u001b[0;34m,\u001b[0m \u001b[0msolver\u001b[0m\u001b[0;34m.\u001b[0m\u001b[0mname\u001b[0m\u001b[0;34m(\u001b[0m\u001b[0;34m)\u001b[0m\u001b[0;34m)\u001b[0m\u001b[0;34m\u001b[0m\u001b[0m\n",
      "\u001b[0;31mSolverError\u001b[0m: Solver 'CVXOPT' failed. Try another solver."
     ]
    }
   ],
   "source": [
    "sdp = SdpRelaxation(x)\n",
    "sdp.get_relaxation(level, objective=obj)\n",
    "sdp.solve()\n",
    "print('optimal values: ',sdp.primal, sdp.dual, sdp.status)\n",
    "print('optimal point: ',sdp[x[0]]) #that's somehow not correct???"
   ]
  }
 ],
 "metadata": {
  "kernelspec": {
   "display_name": "Python 3",
   "language": "python",
   "name": "python3"
  },
  "language_info": {
   "codemirror_mode": {
    "name": "ipython",
    "version": 3
   },
   "file_extension": ".py",
   "mimetype": "text/x-python",
   "name": "python",
   "nbconvert_exporter": "python",
   "pygments_lexer": "ipython3",
   "version": "3.6.1"
  }
 },
 "nbformat": 4,
 "nbformat_minor": 2
}
